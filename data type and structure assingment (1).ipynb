{
  "metadata": {
    "kernelspec": {
      "name": "python",
      "display_name": "Python (Pyodide)",
      "language": "python"
    },
    "language_info": {
      "codemirror_mode": {
        "name": "python",
        "version": 3
      },
      "file_extension": ".py",
      "mimetype": "text/x-python",
      "name": "python",
      "nbconvert_exporter": "python",
      "pygments_lexer": "ipython3",
      "version": "3.8"
    }
  },
  "nbformat_minor": 4,
  "nbformat": 4,
  "cells": [
    {
      "cell_type": "raw",
      "source": "1) What are data structures, and why are they important?\nAns: Data structures are specialized formats for organizing, storing, and accessing collections of data. They provide efficient ways to manage information based on its characteristics and intended use. Think of them as containers that hold your data and determine how you can interact with it. Different containers are better suited for different types of items.\n  THey are important becuase: 1) Choosing the right data structure significantly impacts the efficiency and performance of your program.\n                              2) Well-chosen data structures can:\n                              3) Simplify data manipulation (adding, removing, modifying elements).\n                              4) Optimize searching and sorting operations.\n                              5) Conserve memory usage.\n\n2)  Explain the difference between mutable and immutable data types with examples.\nAns: \n\n \t                      Mutable\t                                                                           Immutable\nDefinition\t   Data type whose values can be changed after creation.\t                Data types whose values can’t be changed or altered.\nMemory location  Retains the same memory location even after the content is modified.          Any modification results in a new object and                                                                                                new memory locati                     Example\t                 List, Dictionaries, Set\t                                                   Strings, Types, Integer\nPerformance\t It is memory-efficient, as no new objects are\t                            It might be faster in some scenarios as there’s no                        created for frequent changes.                                                   need to track changes.\nThread-Safety\tNot inherently thread-safe. Concurrent modification can lead to unpredictable results.\tThey are inherently thread-safe due                                                                                                           to their unchangeable nature.\nUse-cases\tWhen you need to modify, add, or remove existing data frequently.\tWhen you want to ensure data remains consistent and                                                                                                                  unaltered.\n\n3) What are the main differences between lists and tuples in Python.\nAns: The main difference between tuples and lists is that while tuples are immutable objects, lists are mutable. This means tuples cannot be changed while lists can be modified. Tuples are also more memory efficient than the lists. \n",
      "metadata": {}
    },
    {
      "cell_type": "code",
      "source": "List = [1, 2, 4, 4, 3, 3, 3, 6, 5]\nprint(\"Original list \", List)\n\nList[3] = 77\nprint(\"Example to show mutability \", List)",
      "metadata": {
        "trusted": true
      },
      "outputs": [
        {
          "name": "stdout",
          "text": "Original list  [1, 2, 4, 4, 3, 3, 3, 6, 5]\nExample to show mutability  [1, 2, 4, 77, 3, 3, 3, 6, 5]\n",
          "output_type": "stream"
        }
      ],
      "execution_count": 1
    },
    {
      "cell_type": "code",
      "source": "tuple1 = (0, 1, 2, 3)\ntuple1[0] = 4\nprint(tuple1)",
      "metadata": {
        "trusted": true
      },
      "outputs": [
        {
          "ename": "<class 'TypeError'>",
          "evalue": "'tuple' object does not support item assignment",
          "traceback": [
            "\u001b[0;31m---------------------------------------------------------------------------\u001b[0m",
            "\u001b[0;31mTypeError\u001b[0m                                 Traceback (most recent call last)",
            "Cell \u001b[0;32mIn[2], line 2\u001b[0m\n\u001b[1;32m      1\u001b[0m tuple1 \u001b[38;5;241m=\u001b[39m (\u001b[38;5;241m0\u001b[39m, \u001b[38;5;241m1\u001b[39m, \u001b[38;5;241m2\u001b[39m, \u001b[38;5;241m3\u001b[39m)\n\u001b[0;32m----> 2\u001b[0m \u001b[43mtuple1\u001b[49m\u001b[43m[\u001b[49m\u001b[38;5;241;43m0\u001b[39;49m\u001b[43m]\u001b[49m \u001b[38;5;241m=\u001b[39m \u001b[38;5;241m4\u001b[39m\n\u001b[1;32m      3\u001b[0m \u001b[38;5;28mprint\u001b[39m(tuple1)\n",
            "\u001b[0;31mTypeError\u001b[0m: 'tuple' object does not support item assignment"
          ],
          "output_type": "error"
        }
      ],
      "execution_count": 2
    },
    {
      "cell_type": "raw",
      "source": "4) Describe how dictionaries store data\nAns: A dictionary stores data in \"key-value pairs,\" meaning each piece of information is associated with a unique identifier called a \"key\" which allows for quick access to the corresponding \"value\"\nKey-Value Pairs:\nDictionaries store data in key-value pairs, where each key is unique and associated with a corresponding value.\nThink of it like a real-world dictionary, where words (keys) are associated with their definitions (values).\n      Hashing:\nWhen you add a key-value pair to a dictionary, Python uses a hash function to convert the key into a unique numerical value called a hash code.\nThis hash code determines where the key-value pair is stored in the dictionary's internal hash table.\n    Hash Table:\nThe hash table is an array of \"buckets\" or \"slots\".\nThe hash code is used to calculate the index of the bucket where the key-value pair should be stored.\n      Collision Handling:\nSometimes, two different keys can produce the same hash code, which is called a collision.\nPython handles collisions using techniques like chaining or open addressing.\nIn chaining, each bucket contains a linked list of key-value pairs with the same hash code.\nIn open addressing, the colliding key-value pair is placed in the next available bucket.\n            Retrieval:\nTo retrieve a value from a dictionary, you provide the corresponding key.\nPython hashes the key, calculates the index, and then accesses the appropriate bucket to find the value.\n\n5) Why might you use a set instead of a list in Python?\nAns: You might choose to use a set instead of a list in Python for several reasons:\n               1. Uniqueness: Sets only store unique elements, automatically removing duplicates. This is useful when:\nYou need to ensure that there are no duplicate values in your data.\nYou want to perform set operations like union, intersection, or difference efficiently.\n               2. Membership Testing: \n                                    Checking if an element exists in a set is much faster than checking in a list, especially for large datasets. This is because sets use hash tables for efficient lookups (average O(1) time complexity), while lists require linear search (O(n) time complexity).\n            3. Mathematical Operations: Sets support mathematical set operations like:\n                                    union: Combine elements from two or more sets.\n                                    intersection: Find common elements between two or more sets.\n                                    difference: Find elements present in one set but not in another.\n                                    symmetric_difference: Find elements that are in either of the sets, but not in both.\n\n6) What is a string in Python, and how is it different from a list.\nAns: In Python, strings are used for representing textual data. A string is a sequence of characters enclosed in either single quotes ('') or double quotes (“”). The Python language provides various built-in methods and functionalities to work with strings efficiently.\n\n     Differences between string and list:-\n                                    1) Data type:A string only contains characters, while a list can hold different data types like integers, floats, and other strings.\n                                     2) Mutability: Strings are immutable, meaning they cannot be changed once created, whereas lists are mutable and can be modified.\n                                     3) Representation: Strings are defined with quotes (\"Hello\" or 'Hello'), while lists are defined with square brackets.\n\n7) How do tuples ensure data integrity in Python?\nAns: Tuples ensure data integrity in Python through their immutability. Here's how:\n                        Immutability: Once you create a tuple, its elements cannot be modified, added, or removed. This means that the data stored within the tuple remains constant throughout its lifespan.\n                        Benefits of Immutability:\n                                                Prevents Accidental Changes: Since you can't accidentally modify a tuple's contents, it safeguards against unintended changes that could corrupt your data.\n                                                Safe Sharing: You can confidently share tuples across different parts of your program, knowing that the data won't be altered unexpectedly.\n                                                 Hashable Keys: Tuples can be used as keys in dictionaries because their immutability guarantees that their hash value remains constant. This is essential for reliable dictionary operations.\n                        Read-Only Data: Tuples are perfect for representing data that is inherently read-only, such as configuration settings, constants, or database records.\n",
      "metadata": {}
    },
    {
      "cell_type": "code",
      "source": "coordinates = (10, 20)\ncoordinates[0] = 15  # This will raise a TypeError because tuples are immutable",
      "metadata": {
        "trusted": true
      },
      "outputs": [
        {
          "ename": "<class 'TypeError'>",
          "evalue": "'tuple' object does not support item assignment",
          "traceback": [
            "\u001b[0;31m---------------------------------------------------------------------------\u001b[0m",
            "\u001b[0;31mTypeError\u001b[0m                                 Traceback (most recent call last)",
            "Cell \u001b[0;32mIn[3], line 2\u001b[0m\n\u001b[1;32m      1\u001b[0m coordinates \u001b[38;5;241m=\u001b[39m (\u001b[38;5;241m10\u001b[39m, \u001b[38;5;241m20\u001b[39m)\n\u001b[0;32m----> 2\u001b[0m \u001b[43mcoordinates\u001b[49m\u001b[43m[\u001b[49m\u001b[38;5;241;43m0\u001b[39;49m\u001b[43m]\u001b[49m \u001b[38;5;241m=\u001b[39m \u001b[38;5;241m15\u001b[39m  \u001b[38;5;66;03m# This will raise a TypeError because tuples are immutable\u001b[39;00m\n",
            "\u001b[0;31mTypeError\u001b[0m: 'tuple' object does not support item assignment"
          ],
          "output_type": "error"
        }
      ],
      "execution_count": 3
    },
    {
      "cell_type": "raw",
      "source": "8) What is a hash table, and how does it relate to dictionaries in Python?\nAns: A hash table is a data structure that maps keys to values using a hash function. This allows for efficient lookups, insertions, and deletions of key-value pairs.\n\n      How it works:\n                 Hash Function: A hash function takes a key as input and outputs a unique integer, which is used as an index to store the corresponding value in the hash table.\n                 Buckets: The hash table is divided into a fixed number of \"buckets\" or \"slots\". The hash function determines which bucket a particular key-value pair should be stored in.\n                 Collisions: When two different keys produce the same hash value, it's called a collision. Hash tables have collision resolution mechanisms, such as chaining or open addressing, to handle these situations.\n\n\n9) Can lists contain different data types in Python?\nAns: Yes, lists in Python can contain different data types. You can mix and match integers, strings, floats, booleans, and even other lists within the same list.\n",
      "metadata": {}
    },
    {
      "cell_type": "code",
      "source": "#eample\nmy_list = [1, \"hello\", 3.14, True, [2, 3]] ",
      "metadata": {
        "trusted": true
      },
      "outputs": [],
      "execution_count": 4
    },
    {
      "cell_type": "code",
      "source": "type(my_list)",
      "metadata": {
        "trusted": true
      },
      "outputs": [
        {
          "execution_count": 5,
          "output_type": "execute_result",
          "data": {
            "text/plain": "list"
          },
          "metadata": {}
        }
      ],
      "execution_count": 5
    },
    {
      "cell_type": "raw",
      "source": "10) Explain why strings are immutable in Python.\nAns: Strings in Python are “immutable” which means they can not be changed after they are created. Some other immutable data types are integers, float, boolean, etc. ",
      "metadata": {}
    },
    {
      "cell_type": "code",
      "source": "Input:  name_1 = \"Aarun\" \n             name_1[0] = 'T' #We cannot update the string after declaring it means once an immutable the objects instantiated, its value cannot be changed",
      "metadata": {
        "trusted": true
      },
      "outputs": [
        {
          "ename": "<class 'IndentationError'>",
          "evalue": "unexpected indent (<ipython-input-6-e8b681d2fc39>, line 2)",
          "traceback": [
            "\u001b[0;36m  Cell \u001b[0;32mIn[6], line 2\u001b[0;36m\u001b[0m\n\u001b[0;31m    name_1[0] = 'T'\u001b[0m\n\u001b[0m    ^\u001b[0m\n\u001b[0;31mIndentationError\u001b[0m\u001b[0;31m:\u001b[0m unexpected indent\n"
          ],
          "output_type": "error"
        }
      ],
      "execution_count": 6
    },
    {
      "cell_type": "raw",
      "source": "11) What advantages do dictionaries offer over lists for certain tasks?\nAns: Dictionaries offer several advantages over lists for certain tasks, including: \n                   Faster lookups: Dictionaries use a hash table to store key-value pairs, which makes them ideal for tasks that require frequent lookups or searches. \n                   More flexible: Dictionaries can store any type of data as both the key and the value, making them well-suited to a wide range of tasks. \n                   Easier to read: Dictionaries make code much easier to read if you need to generate key:value pairs. \n                   Memory efficient: Dictionaries are memory efficient, as they only store the key-value pairs you need. \n                   Better for indexing: Dictionaries are more useful when indexing is needed so that any search can be narrowed down and is less time-consuming. \n\n12) Describe a scenario where using a tuple would be preferable over a list.\nAns: A scenario where a tuple would be preferable over a list is when you need to store a collection of data that should never be modified after it's created, like representing a set of coordinates in a 2D plane, storing configuration settings in a program where the settings should not change during runtime, or returning multiple values from a function where the order of the values is important but they shouldn't be altered later on.\n\n\n13) How do sets handle duplicate values in Python?\nAns: Sets in Python are designed to automatically handle duplicate values by simply ignoring them. Here's why:\nSets are unordered collections of unique elements. This means that:\nNo Duplicates: When you add an element to a set that already exists, the set remains unchanged.\nUniqueness: Each element in a set must be unique.\n\n",
      "metadata": {}
    },
    {
      "cell_type": "code",
      "source": "#example\nmy_list = [1, 2, 2, 3, 3, 3]\nmy_set = set(my_list)  \nmy_list = list(my_set)  \nprint(my_list)",
      "metadata": {
        "trusted": true
      },
      "outputs": [
        {
          "name": "stdout",
          "text": "[1, 2, 3]\n",
          "output_type": "stream"
        }
      ],
      "execution_count": 9
    },
    {
      "cell_type": "raw",
      "source": "14) How does the “in” keyword work differently for lists and dictionaries?\nAns: When using the \"in\" keyword, it checks if an element exists within a list, while for dictionaries, it checks if a specific key exists within the dictionary; meaning, with a list, you're looking for a value directly, but with a dictionary, you're looking for a key that is associated with a value.\nLists: \"in\" checks if a given value is present within the list of elements.\nDictionaries: \"in\" checks if a given key exists within the dictionary's key-value pairs. ",
      "metadata": {}
    },
    {
      "cell_type": "code",
      "source": "#example\nmy_list = [\"apple\", \"banana\", \"orange\"]\n\nmy_dict = {\"fruit\": \"apple\", \"color\": \"red\"}\n\n\n\nprint(\"apple\" in my_list)  \n\nprint(\"apple\" in my_dict) \n\nprint(\"color\" in my_dict)  \nprint(\"mango\" in my_dict)  ",
      "metadata": {
        "trusted": true
      },
      "outputs": [
        {
          "name": "stdout",
          "text": "True\nFalse\nTrue\nFalse\n",
          "output_type": "stream"
        }
      ],
      "execution_count": 10
    },
    {
      "cell_type": "raw",
      "source": "15) Can you modify the elements of a tuple? Explain why or why not.\nAns: No, you cannot modify the elements of a tuple in Python.\n      Because tuples are \"immutable,\" meaning once created, their elements cannot be changed, added, or removed; if you try to alter a tuple element, you will receive a TypeError error. \n\n\n16) What is a nested dictionary, and give an example of its use case?\nAns: A nested dictionary is a collection of dictionaries stored inside a single dictionary. It's a way to represent and store structured information.\n  \n",
      "metadata": {}
    },
    {
      "cell_type": "code",
      "source": "#example:\npeople = {1: {'name': 'John', 'age': '27', 'sex': 'Male'},\n          2: {'name': 'Marie', 'age': '22', 'sex': 'Female'}}\n\nprint(people)",
      "metadata": {
        "trusted": true
      },
      "outputs": [
        {
          "name": "stdout",
          "text": "{1: {'name': 'John', 'age': '27', 'sex': 'Male'}, 2: {'name': 'Marie', 'age': '22', 'sex': 'Female'}}\n",
          "output_type": "stream"
        }
      ],
      "execution_count": 11
    },
    {
      "cell_type": "raw",
      "source": "17)  Describe the time complexity of accessing elements in a dictionar.\nAns: The time complexity of accessing an element in a Python dictionary is O(1) on average, which means it takes a constant amount of time to search for a value in the dictionary. However, the worst-case time complexity is O(n) if there are many collisions.\n     Accessing Elements by Key (O(1))\nThe time complexity of retrieving a value by its key in a dictionary is O(1). This is because dictionaries use a hash table internally which allows constant time lookup.",
      "metadata": {}
    },
    {
      "cell_type": "code",
      "source": "#example:\n# Create a dictionary\ndict = {'a': 1, 'b': 2, 'c': 3}\n\n# Access value by key\nval = dict['b']\nprint(val)",
      "metadata": {
        "trusted": true
      },
      "outputs": [
        {
          "name": "stdout",
          "text": "2\n",
          "output_type": "stream"
        }
      ],
      "execution_count": 12
    },
    {
      "cell_type": "raw",
      "source": "18) In what situations are lists preferred over dictionaries?\nAns: Lists are preferred over dictionaries when the order of elements is crucial, you need to frequently perform operations like appending or extending, or when you want to access elements based on their position in the sequence (index), rather than a unique key; essentially, when dealing with ordered data where the sequence matters more than specific key-value associations.\n    Example scenarios where lists are preferred:\n                        (1)Storing a list of items in a shopping cart: The order of items in the cart is important, so a list is suitable.\n                        (2)Implementing a stack or queue: These data structures rely on first-in-first-out or last-in-first-out ordering, which is easily achieved with a list.\n                        (3)Processing data from a file line by line: Reading lines from a file maintains their order, so storing them in a list is natural.\n\n19) Why are dictionaries considered unordered, and how does that affect data retrieval?\nAns: Dictionary term as an unordered collection of object because in dictionary we can use any type of data types . but in key datatype should be immutable type.\n\n20)  Explain the difference between a list and a dictionary in terms of data retrieval.\nAns: A list retrieves data using its index position (a number starting from 0), while a dictionary retrieves data using a specific key, meaning you access elements in a list by their order in the sequence, whereas in a dictionary, you access elements by their associated unique key which can be any data type like a string or number; making dictionaries significantly faster for looking up specific data points when you know the key.\n",
      "metadata": {}
    },
    {
      "cell_type": "code",
      "source": "#example:\nmy_list = [\"apple\", \"banana\", \"cherry\"]\nmy_list[1]",
      "metadata": {
        "trusted": true
      },
      "outputs": [
        {
          "execution_count": 14,
          "output_type": "execute_result",
          "data": {
            "text/plain": "'banana'"
          },
          "metadata": {}
        }
      ],
      "execution_count": 14
    },
    {
      "cell_type": "code",
      "source": "my_dict = {\"fruit\": \"apple\", \"color\": \"red\"}\nmy_dict[\"fruit\"]",
      "metadata": {
        "trusted": true
      },
      "outputs": [
        {
          "execution_count": 15,
          "output_type": "execute_result",
          "data": {
            "text/plain": "'apple'"
          },
          "metadata": {}
        }
      ],
      "execution_count": 15
    },
    {
      "cell_type": "markdown",
      "source": "### practical question",
      "metadata": {}
    },
    {
      "cell_type": "code",
      "source": "#1) Write a code to create a string with your name and print it.\nname= \"souvik\"\n",
      "metadata": {
        "trusted": true
      },
      "outputs": [],
      "execution_count": 17
    },
    {
      "cell_type": "code",
      "source": "type(name)",
      "metadata": {
        "trusted": true
      },
      "outputs": [
        {
          "execution_count": 18,
          "output_type": "execute_result",
          "data": {
            "text/plain": "str"
          },
          "metadata": {}
        }
      ],
      "execution_count": 18
    },
    {
      "cell_type": "code",
      "source": "print(name)",
      "metadata": {
        "trusted": true
      },
      "outputs": [
        {
          "name": "stdout",
          "text": "souvik\n",
          "output_type": "stream"
        }
      ],
      "execution_count": 19
    },
    {
      "cell_type": "code",
      "source": "# 2) Write a code to find the length of the string \"Hello World\"\ns= \"Hello World\"\nlen(s)\n\n",
      "metadata": {
        "trusted": true
      },
      "outputs": [
        {
          "execution_count": 23,
          "output_type": "execute_result",
          "data": {
            "text/plain": "11"
          },
          "metadata": {}
        }
      ],
      "execution_count": 23
    },
    {
      "cell_type": "code",
      "source": "# 3) Write a code to slice the first 3 characters from the string \"Python Programming\".\nstring = \"Python Programming\"\nsliced_string = string[:3] \nprint(sliced_string)",
      "metadata": {
        "trusted": true
      },
      "outputs": [
        {
          "name": "stdout",
          "text": "Pyt\n",
          "output_type": "stream"
        }
      ],
      "execution_count": 25
    },
    {
      "cell_type": "code",
      "source": "# 4) Write a code to convert the string \"hello\" to uppercaseE\nstring = \"hello\"\nuppercase_string = string.upper()\nprint(uppercase_string)",
      "metadata": {
        "trusted": true
      },
      "outputs": [
        {
          "name": "stdout",
          "text": "HELLO\n",
          "output_type": "stream"
        }
      ],
      "execution_count": 29
    },
    {
      "cell_type": "code",
      "source": "# 5) Write a code to replace the word \"apple\" with \"orange\" in the string \"I like apple\".\nstr= \"I like apple\"\nnew_str= str.replace(\"apple\",\"orange\")\nprint(new_str)\n",
      "metadata": {
        "trusted": true
      },
      "outputs": [
        {
          "name": "stdout",
          "text": "I like orange\n",
          "output_type": "stream"
        }
      ],
      "execution_count": 32
    },
    {
      "cell_type": "code",
      "source": "#7) Write a code to append the number 10 to the list [1, 2, 3, 4]\nlist= [1,2,3,4]\nlist.append(10)\nprint(list)",
      "metadata": {
        "trusted": true
      },
      "outputs": [
        {
          "name": "stdout",
          "text": "[1, 2, 3, 4, 10]\n",
          "output_type": "stream"
        }
      ],
      "execution_count": 52
    },
    {
      "cell_type": "code",
      "source": "# 8) Write a code to remove the number 3 from the list [1, 2, 3, 4, 5]\nlist=[1,2,3,4,5]\nlist.remove(3)\nprint(list)",
      "metadata": {
        "trusted": true
      },
      "outputs": [
        {
          "name": "stdout",
          "text": "[1, 2, 4, 5]\n",
          "output_type": "stream"
        }
      ],
      "execution_count": 55
    },
    {
      "cell_type": "code",
      "source": "# 9) Write a code to access the second element in the list ['a', 'b', 'c', 'd']\nlist=[\"a\",\"b\",\"c\",\"d\"]\nlist[1]\n",
      "metadata": {
        "trusted": true
      },
      "outputs": [
        {
          "execution_count": 59,
          "output_type": "execute_result",
          "data": {
            "text/plain": "'b'"
          },
          "metadata": {}
        }
      ],
      "execution_count": 59
    },
    {
      "cell_type": "code",
      "source": "# 10) Write a code to reverse the list [10, 20, 30, 40, 50]\nlist=[10, 20, 30, 40, 50]\nlist.reverse()\nprint(list)",
      "metadata": {
        "trusted": true
      },
      "outputs": [
        {
          "name": "stdout",
          "text": "[50, 40, 30, 20, 10]\n",
          "output_type": "stream"
        }
      ],
      "execution_count": 63
    },
    {
      "cell_type": "code",
      "source": "# 11) Write a code to create a tuple with the elements 10, 20, 30 and print it.\nt=(10,20,30)\nprint(t)",
      "metadata": {
        "trusted": true
      },
      "outputs": [
        {
          "name": "stdout",
          "text": "(10, 20, 30)\n",
          "output_type": "stream"
        }
      ],
      "execution_count": 76
    },
    {
      "cell_type": "code",
      "source": "# 12) Write a code to access the first element of the tuple ('apple', 'banana', 'cherry').\nt=(\"apple\", \"banana\", \"cherry\")\nt[0]",
      "metadata": {
        "trusted": true
      },
      "outputs": [
        {
          "execution_count": 70,
          "output_type": "execute_result",
          "data": {
            "text/plain": "'apple'"
          },
          "metadata": {}
        }
      ],
      "execution_count": 70
    },
    {
      "cell_type": "code",
      "source": "# 13) Write a code to count how many times the number 2 appears in the tuple (1, 2, 3, 2, 4, 2).\ntuple= (1,2,3,2,4,2)\ntuple.count(2)",
      "metadata": {
        "trusted": true
      },
      "outputs": [
        {
          "execution_count": 71,
          "output_type": "execute_result",
          "data": {
            "text/plain": "3"
          },
          "metadata": {}
        }
      ],
      "execution_count": 71
    },
    {
      "cell_type": "code",
      "source": "# 14)  Write a code to find the index of the element \"cat\" in the tuple ('dog', 'cat', 'rabbit')\nt=('dog', 'cat', 'rabbit')\nt.index(\"cat\")",
      "metadata": {
        "trusted": true
      },
      "outputs": [
        {
          "execution_count": 72,
          "output_type": "execute_result",
          "data": {
            "text/plain": "1"
          },
          "metadata": {}
        }
      ],
      "execution_count": 72
    },
    {
      "cell_type": "code",
      "source": "# 15) Write a code to check if the element \"banana\" is in the tuple ('apple', 'orange', 'banana').\n\nt = ('apple', 'orange', 'banana')\n\nif \"banana\" in t:\n    print(\"The element 'banana' is in the tuple.\")\nelse:\n    print(\"The element 'banana' is not in the tuple.\")\n",
      "metadata": {
        "trusted": true
      },
      "outputs": [
        {
          "name": "stdout",
          "text": "The element 'banana' is in the tuple.\n",
          "output_type": "stream"
        }
      ],
      "execution_count": 73
    },
    {
      "cell_type": "code",
      "source": "# 16) Write a code to create a set with the elements 1, 2, 3, 4, 5 and print it.\nmy_set = {1, 2, 3, 4, 5}\nprint(my_set)\n",
      "metadata": {
        "trusted": true
      },
      "outputs": [
        {
          "name": "stdout",
          "text": "{1, 2, 3, 4, 5}\n",
          "output_type": "stream"
        }
      ],
      "execution_count": 74
    },
    {
      "cell_type": "code",
      "source": "type(my_set)",
      "metadata": {
        "trusted": true
      },
      "outputs": [
        {
          "execution_count": 75,
          "output_type": "execute_result",
          "data": {
            "text/plain": "set"
          },
          "metadata": {}
        }
      ],
      "execution_count": 75
    },
    {
      "cell_type": "code",
      "source": "# 17) Write a code to add the element 6 to the set {1, 2, 3, 4}.\nset={1,2,3,4}\nset.add(6)\nprint(set)",
      "metadata": {
        "trusted": true
      },
      "outputs": [
        {
          "name": "stdout",
          "text": "{1, 2, 3, 4, 6}\n",
          "output_type": "stream"
        }
      ],
      "execution_count": 80
    },
    {
      "cell_type": "code",
      "source": "# 18) Write a code to create a tuple with the elements 10, 20, 30 and print it.\ntuple=[10,20,30]\nprint(tuple)",
      "metadata": {
        "trusted": true
      },
      "outputs": [
        {
          "name": "stdout",
          "text": "[10, 20, 30]\n",
          "output_type": "stream"
        }
      ],
      "execution_count": 81
    },
    {
      "cell_type": "code",
      "source": "# 19)  Write a code to access the first element of the tuple ('apple', 'banana', 'cherry').\nt=[\"apple\",\"banana\",\"cherry\"]\nt[0]",
      "metadata": {
        "trusted": true
      },
      "outputs": [
        {
          "execution_count": 83,
          "output_type": "execute_result",
          "data": {
            "text/plain": "'apple'"
          },
          "metadata": {}
        }
      ],
      "execution_count": 83
    },
    {
      "cell_type": "code",
      "source": "# 20) Write a code to count how many times the number 2 appears in the tuple (1, 2, 3, 2, 4, 2).\nt=[1,2,3,2,4,2]\nt.count(2)",
      "metadata": {
        "trusted": true
      },
      "outputs": [
        {
          "execution_count": 84,
          "output_type": "execute_result",
          "data": {
            "text/plain": "3"
          },
          "metadata": {}
        }
      ],
      "execution_count": 84
    },
    {
      "cell_type": "code",
      "source": "#21)  Write a code to find the index of the element \"cat\" in the tuple ('dog', 'cat', 'rabbit').\ntuple=['dog', 'cat', 'rabbit']\ntuple.index('cat')",
      "metadata": {
        "trusted": true
      },
      "outputs": [
        {
          "execution_count": 89,
          "output_type": "execute_result",
          "data": {
            "text/plain": "1"
          },
          "metadata": {}
        }
      ],
      "execution_count": 89
    },
    {
      "cell_type": "code",
      "source": "#22)  Write a code to check if the element \"banana\" is in the tuple ('apple', 'orange', 'banana').\n\nt = ('apple', 'orange', 'banana')\n\nif \"banana\" in t:\n    print(\"The element 'banana' is in the tuple.\")\nelse:\n    print(\"The element 'banana' is not in the tuple.\")\n",
      "metadata": {
        "trusted": true
      },
      "outputs": [
        {
          "name": "stdout",
          "text": "The element 'banana' is in the tuple.\n",
          "output_type": "stream"
        }
      ],
      "execution_count": 90
    },
    {
      "cell_type": "code",
      "source": "# 23)  Write a code to create a set with the elements 1, 2, 3, 4, 5 and print it.\nmy_set={1,2,3,4,5}\nprint(my_set)",
      "metadata": {
        "trusted": true
      },
      "outputs": [
        {
          "name": "stdout",
          "text": "{1, 2, 3, 4, 5}\n",
          "output_type": "stream"
        }
      ],
      "execution_count": 92
    },
    {
      "cell_type": "code",
      "source": "type(my_set)",
      "metadata": {
        "trusted": true
      },
      "outputs": [
        {
          "execution_count": 93,
          "output_type": "execute_result",
          "data": {
            "text/plain": "set"
          },
          "metadata": {}
        }
      ],
      "execution_count": 93
    },
    {
      "cell_type": "code",
      "source": "# 24)  Write a code to add the element 6 to the set {1, 2, 3, 4}.\ns={1,2,3,4}\ns.add(6)\nprint(s)",
      "metadata": {
        "trusted": true
      },
      "outputs": [
        {
          "name": "stdout",
          "text": "{1, 2, 3, 4, 6}\n",
          "output_type": "stream"
        }
      ],
      "execution_count": 96
    },
    {
      "cell_type": "code",
      "source": "# 6) Write a code to create a list with numbers 1 to 5 and print itE\nnumbers = []\nfor i in range(1, 6):\n    numbers.append(i)\nprint(numbers)",
      "metadata": {
        "trusted": true
      },
      "outputs": [
        {
          "name": "stdout",
          "text": "[1, 2, 3, 4, 5]\n",
          "output_type": "stream"
        }
      ],
      "execution_count": 1
    },
    {
      "cell_type": "code",
      "source": "",
      "metadata": {
        "trusted": true
      },
      "outputs": [],
      "execution_count": null
    }
  ]
}